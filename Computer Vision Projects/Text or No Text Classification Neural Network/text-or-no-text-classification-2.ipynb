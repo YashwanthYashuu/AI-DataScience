{
 "cells": [
  {
   "cell_type": "code",
   "execution_count": 1,
   "metadata": {
    "execution": {
     "iopub.execute_input": "2023-12-09T15:15:47.804440Z",
     "iopub.status.busy": "2023-12-09T15:15:47.803931Z",
     "iopub.status.idle": "2023-12-09T15:15:47.813073Z",
     "shell.execute_reply": "2023-12-09T15:15:47.811209Z",
     "shell.execute_reply.started": "2023-12-09T15:15:47.804390Z"
    }
   },
   "outputs": [],
   "source": [
    "import os, shutil, sys, warnings, math\n",
    "import numpy as np\n",
    "import pandas as pd\n",
    "import matplotlib.pyplot as plt\n",
    "from PIL import Image\n",
    "from zipfile import ZipFile\n",
    "from tqdm import trange\n",
    "from tqdm.notebook import tqdm\n",
    "from sklearn.preprocessing import StandardScaler\n",
    "from sklearn.model_selection import train_test_split\n",
    "from sklearn.metrics import log_loss, accuracy_score\n",
    "import tensorflow\n",
    "from tensorflow.keras import Sequential\n",
    "from tensorflow.keras.layers import Dense\n",
    "# Ignore all warnings\n",
    "warnings.simplefilter(\"ignore\")"
   ]
  },
  {
   "cell_type": "code",
   "execution_count": 23,
   "metadata": {
    "execution": {
     "iopub.execute_input": "2023-12-09T15:15:47.830564Z",
     "iopub.status.busy": "2023-12-09T15:15:47.830068Z",
     "iopub.status.idle": "2023-12-09T15:15:47.839402Z",
     "shell.execute_reply": "2023-12-09T15:15:47.837967Z",
     "shell.execute_reply.started": "2023-12-09T15:15:47.830519Z"
    }
   },
   "outputs": [],
   "source": [
    "CONFIG = {\n",
    "    \"TEST_FOLDER\" : \"kaggle_level_2\",\n",
    "    \"TRAIN_FOLDER\" : \"level_2/\",\n",
    "    \"IMAGE_SIZE\": (16, 16),\n",
    "    \"THRESHOLD\": 0.5\n",
    "}"
   ]
  },
  {
   "cell_type": "code",
   "execution_count": 24,
   "metadata": {
    "execution": {
     "iopub.status.busy": "2023-12-09T15:15:47.840789Z",
     "iopub.status.idle": "2023-12-09T15:15:47.841436Z",
     "shell.execute_reply": "2023-12-09T15:15:47.841228Z",
     "shell.execute_reply.started": "2023-12-09T15:15:47.841205Z"
    }
   },
   "outputs": [],
   "source": [
    "def read_all(folder_path, key_prefix=\"\"):\n",
    "    print(\"Reading:\")\n",
    "    images={}\n",
    "    files = os.listdir(folder_path)\n",
    "    for i, filename in tqdm(enumerate(files), total=len(files)):\n",
    "        file_path = os.path.join(folder_path,filename)\n",
    "        image_index = key_prefix + filename[:-4]\n",
    "        image = Image.open(file_path)\n",
    "        image = image.convert(\"L\")\n",
    "        images[image_index] = np.array(image.copy()).flatten()\n",
    "        image.close()\n",
    "    return images"
   ]
  },
  {
   "cell_type": "code",
   "execution_count": 25,
   "metadata": {
    "execution": {
     "iopub.execute_input": "2023-12-09T15:15:47.850592Z",
     "iopub.status.busy": "2023-12-09T15:15:47.849374Z",
     "iopub.status.idle": "2023-12-09T15:15:49.141706Z",
     "shell.execute_reply": "2023-12-09T15:15:49.139888Z",
     "shell.execute_reply.started": "2023-12-09T15:15:47.850513Z"
    }
   },
   "outputs": [
    {
     "name": "stdout",
     "output_type": "stream",
     "text": [
      "Reading:\n"
     ]
    },
    {
     "data": {
      "application/vnd.jupyter.widget-view+json": {
       "model_id": "44a9ac36622a46739272d9ed9572f6f3",
       "version_major": 2,
       "version_minor": 0
      },
      "text/plain": [
       "  0%|          | 0/407 [00:00<?, ?it/s]"
      ]
     },
     "metadata": {},
     "output_type": "display_data"
    },
    {
     "name": "stdout",
     "output_type": "stream",
     "text": [
      "Reading:\n"
     ]
    },
    {
     "data": {
      "application/vnd.jupyter.widget-view+json": {
       "model_id": "77b90b0d6d9b4cf5b145ccf79a3d66f5",
       "version_major": 2,
       "version_minor": 0
      },
      "text/plain": [
       "  0%|          | 0/114 [00:00<?, ?it/s]"
      ]
     },
     "metadata": {},
     "output_type": "display_data"
    },
    {
     "name": "stdout",
     "output_type": "stream",
     "text": [
      "Reading:\n"
     ]
    },
    {
     "data": {
      "application/vnd.jupyter.widget-view+json": {
       "model_id": "dbf95f01d9654d05a70f36d1aac85b6b",
       "version_major": 2,
       "version_minor": 0
      },
      "text/plain": [
       "  0%|          | 0/136 [00:00<?, ?it/s]"
      ]
     },
     "metadata": {},
     "output_type": "display_data"
    },
    {
     "name": "stdout",
     "output_type": "stream",
     "text": [
      "Reading:\n"
     ]
    },
    {
     "data": {
      "application/vnd.jupyter.widget-view+json": {
       "model_id": "5bcfcadc1d944c95a229e932d0206305",
       "version_major": 2,
       "version_minor": 0
      },
      "text/plain": [
       "  0%|          | 0/146 [00:00<?, ?it/s]"
      ]
     },
     "metadata": {},
     "output_type": "display_data"
    },
    {
     "name": "stdout",
     "output_type": "stream",
     "text": [
      "803\n",
      "Reading:\n"
     ]
    },
    {
     "data": {
      "application/vnd.jupyter.widget-view+json": {
       "model_id": "3484b239be5d496cac170236ef25a048",
       "version_major": 2,
       "version_minor": 0
      },
      "text/plain": [
       "  0%|          | 0/299 [00:00<?, ?it/s]"
      ]
     },
     "metadata": {},
     "output_type": "display_data"
    },
    {
     "name": "stdout",
     "output_type": "stream",
     "text": [
      "299\n"
     ]
    }
   ],
   "source": [
    "languages = ['ta', 'hi', 'en'] # tamil, hindi, english\n",
    "# read in backgrounds with extra 'bgr_' for identification\n",
    "images_train = read_all(f'{CONFIG[\"TRAIN_FOLDER\"]}/background/',key_prefix=\"bgr_\") # change the path\n",
    "# read in the images from all three languages with extra prefix for identification\n",
    "for language in languages:\n",
    "  images_train.update(read_all(CONFIG[\"TRAIN_FOLDER\"] + '/' + language, key_prefix=language+\"_\" ))\n",
    "print(len(images_train))\n",
    "\n",
    "# read in test images\n",
    "images_test = read_all(CONFIG[\"TEST_FOLDER\"], key_prefix='') # change the path\n",
    "print(len(images_test))\n",
    "\n",
    "list(images_test.keys())[:5]\n",
    "\n",
    "X = []\n",
    "Y = []"
   ]
  },
  {
   "cell_type": "code",
   "execution_count": 26,
   "metadata": {
    "execution": {
     "iopub.execute_input": "2023-12-09T15:15:49.145715Z",
     "iopub.status.busy": "2023-12-09T15:15:49.144965Z",
     "iopub.status.idle": "2023-12-09T15:15:49.157126Z",
     "shell.execute_reply": "2023-12-09T15:15:49.155667Z",
     "shell.execute_reply.started": "2023-12-09T15:15:49.145676Z"
    }
   },
   "outputs": [
    {
     "name": "stdout",
     "output_type": "stream",
     "text": [
      "(803, 256) (803,)\n",
      "(299, 256)\n"
     ]
    }
   ],
   "source": [
    "# add the image to columns then check if it is background image or not, depending on that put 0 or 1 in target\n",
    "for key, value in images_train.items():\n",
    "    X.append(value)\n",
    "    if key[:4] == \"bgr_\":\n",
    "        Y.append(0)\n",
    "    else:\n",
    "        Y.append(1)\n",
    "\n",
    "ID_test = []\n",
    "X_test = []\n",
    "for key, value in images_test.items():\n",
    "  ID_test.append(int(key))\n",
    "  X_test.append(value)\n",
    "  \n",
    "        \n",
    "X = np.array(X)\n",
    "Y = np.array(Y)\n",
    "X_test = np.array(X_test)\n",
    "\n",
    "print(X.shape, Y.shape)\n",
    "print(X_test.shape)"
   ]
  },
  {
   "cell_type": "code",
   "execution_count": 27,
   "metadata": {
    "execution": {
     "iopub.execute_input": "2023-12-09T15:15:49.160673Z",
     "iopub.status.busy": "2023-12-09T15:15:49.159546Z",
     "iopub.status.idle": "2023-12-09T15:15:49.180767Z",
     "shell.execute_reply": "2023-12-09T15:15:49.178778Z",
     "shell.execute_reply.started": "2023-12-09T15:15:49.160563Z"
    }
   },
   "outputs": [
    {
     "data": {
      "text/plain": [
       "array([0, 0, 0, 0, 0, 0, 0, 0, 0, 0, 0, 0, 0, 0, 0, 0, 0, 0, 0, 0, 0, 0,\n",
       "       0, 0, 0, 0, 0, 0, 0, 0, 0, 0, 0, 0, 0, 0, 0, 0, 0, 0, 0, 0, 0, 0,\n",
       "       0, 0, 0, 0, 0, 0, 0, 0, 0, 0, 0, 0, 0, 0, 0, 0, 0, 0, 0, 0, 0, 0,\n",
       "       0, 0, 0, 0, 0, 0, 0, 0, 0, 0, 0, 0, 0, 0, 0, 0, 0, 0, 0, 0, 0, 0,\n",
       "       0, 0, 0, 0, 0, 0, 0, 0, 0, 0, 0, 0, 0, 0, 0, 0, 0, 0, 0, 0, 0, 0,\n",
       "       0, 0, 0, 0, 0, 0, 0, 0, 0, 0, 0, 0, 0, 0, 0, 0, 0, 0, 0, 0, 0, 0,\n",
       "       0, 0, 0, 0, 0, 0, 0, 0, 0, 0, 0, 0, 0, 0, 0, 0, 0, 0, 0, 0, 0, 0,\n",
       "       0, 0, 0, 0, 0, 0, 0, 0, 0, 0, 0, 0, 0, 0, 0, 0, 0, 0, 0, 0, 0, 0,\n",
       "       0, 0, 0, 0, 0, 0, 0, 0, 0, 0, 0, 0, 0, 0, 0, 0, 0, 0, 0, 0, 0, 0,\n",
       "       0, 0, 0, 0, 0, 0, 0, 0, 0, 0, 0, 0, 0, 0, 0, 0, 0, 0, 0, 0, 0, 0,\n",
       "       0, 0, 0, 0, 0, 0, 0, 0, 0, 0, 0, 0, 0, 0, 0, 0, 0, 0, 0, 0, 0, 0,\n",
       "       0, 0, 0, 0, 0, 0, 0, 0, 0, 0, 0, 0, 0, 0, 0, 0, 0, 0, 0, 0, 0, 0,\n",
       "       0, 0, 0, 0, 0, 0, 0, 0, 0, 0, 0, 0, 0, 0, 0, 0, 0, 0, 0, 0, 0, 0,\n",
       "       0, 0, 0, 0, 0, 0, 0, 0, 0, 0, 0, 0, 0, 0, 0, 0, 0, 0, 0, 0, 0, 0,\n",
       "       0, 0, 0, 0, 0, 0, 0, 0, 0, 0, 0, 0, 0, 0, 0, 0, 0, 0, 0, 0, 0, 0,\n",
       "       0, 0, 0, 0, 0, 0, 0, 0, 0, 0, 0, 0, 0, 0, 0, 0, 0, 0, 0, 0, 0, 0,\n",
       "       0, 0, 0, 0, 0, 0, 0, 0, 0, 0, 0, 0, 0, 0, 0, 0, 0, 0, 0, 0, 0, 0,\n",
       "       0, 0, 0, 0, 0, 0, 0, 0, 0, 0, 0, 0, 0, 0, 0, 0, 0, 0, 0, 0, 0, 0,\n",
       "       0, 0, 0, 0, 0, 0, 0, 0, 0, 0, 0, 1, 1, 1, 1, 1, 1, 1, 1, 1, 1, 1,\n",
       "       1, 1, 1, 1, 1, 1, 1, 1, 1, 1, 1, 1, 1, 1, 1, 1, 1, 1, 1, 1, 1, 1,\n",
       "       1, 1, 1, 1, 1, 1, 1, 1, 1, 1, 1, 1, 1, 1, 1, 1, 1, 1, 1, 1, 1, 1,\n",
       "       1, 1, 1, 1, 1, 1, 1, 1, 1, 1, 1, 1, 1, 1, 1, 1, 1, 1, 1, 1, 1, 1,\n",
       "       1, 1, 1, 1, 1, 1, 1, 1, 1, 1, 1, 1, 1, 1, 1, 1, 1, 1, 1, 1, 1, 1,\n",
       "       1, 1, 1, 1, 1, 1, 1, 1, 1, 1, 1, 1, 1, 1, 1, 1, 1, 1, 1, 1, 1, 1,\n",
       "       1, 1, 1, 1, 1, 1, 1, 1, 1, 1, 1, 1, 1, 1, 1, 1, 1, 1, 1, 1, 1, 1,\n",
       "       1, 1, 1, 1, 1, 1, 1, 1, 1, 1, 1, 1, 1, 1, 1, 1, 1, 1, 1, 1, 1, 1,\n",
       "       1, 1, 1, 1, 1, 1, 1, 1, 1, 1, 1, 1, 1, 1, 1, 1, 1, 1, 1, 1, 1, 1,\n",
       "       1, 1, 1, 1, 1, 1, 1, 1, 1, 1, 1, 1, 1, 1, 1, 1, 1, 1, 1, 1, 1, 1,\n",
       "       1, 1, 1, 1, 1, 1, 1, 1, 1, 1, 1, 1, 1, 1, 1, 1, 1, 1, 1, 1, 1, 1,\n",
       "       1, 1, 1, 1, 1, 1, 1, 1, 1, 1, 1, 1, 1, 1, 1, 1, 1, 1, 1, 1, 1, 1,\n",
       "       1, 1, 1, 1, 1, 1, 1, 1, 1, 1, 1, 1, 1, 1, 1, 1, 1, 1, 1, 1, 1, 1,\n",
       "       1, 1, 1, 1, 1, 1, 1, 1, 1, 1, 1, 1, 1, 1, 1, 1, 1, 1, 1, 1, 1, 1,\n",
       "       1, 1, 1, 1, 1, 1, 1, 1, 1, 1, 1, 1, 1, 1, 1, 1, 1, 1, 1, 1, 1, 1,\n",
       "       1, 1, 1, 1, 1, 1, 1, 1, 1, 1, 1, 1, 1, 1, 1, 1, 1, 1, 1, 1, 1, 1,\n",
       "       1, 1, 1, 1, 1, 1, 1, 1, 1, 1, 1, 1, 1, 1, 1, 1, 1, 1, 1, 1, 1, 1,\n",
       "       1, 1, 1, 1, 1, 1, 1, 1, 1, 1, 1, 1, 1, 1, 1, 1, 1, 1, 1, 1, 1, 1,\n",
       "       1, 1, 1, 1, 1, 1, 1, 1, 1, 1, 1])"
      ]
     },
     "execution_count": 27,
     "metadata": {},
     "output_type": "execute_result"
    }
   ],
   "source": [
    "Y"
   ]
  },
  {
   "cell_type": "code",
   "execution_count": 28,
   "metadata": {
    "execution": {
     "iopub.execute_input": "2023-12-09T15:15:49.186028Z",
     "iopub.status.busy": "2023-12-09T15:15:49.185176Z",
     "iopub.status.idle": "2023-12-09T15:15:49.195494Z",
     "shell.execute_reply": "2023-12-09T15:15:49.193804Z",
     "shell.execute_reply.started": "2023-12-09T15:15:49.185985Z"
    }
   },
   "outputs": [],
   "source": [
    "# splitting for train and validation sets to check bias chances on test data. we already have the test data\n",
    "X_train, X_val, Y_train, Y_val = train_test_split(X, Y, test_size=0.15, random_state=10, stratify=Y, shuffle=True)"
   ]
  },
  {
   "cell_type": "code",
   "execution_count": 29,
   "metadata": {
    "execution": {
     "iopub.execute_input": "2023-12-09T15:15:49.197065Z",
     "iopub.status.busy": "2023-12-09T15:15:49.196709Z",
     "iopub.status.idle": "2023-12-09T15:15:49.218481Z",
     "shell.execute_reply": "2023-12-09T15:15:49.217157Z",
     "shell.execute_reply.started": "2023-12-09T15:15:49.197032Z"
    }
   },
   "outputs": [],
   "source": [
    "scaler = StandardScaler()\n",
    "X_train = scaler.fit_transform(X_train)\n",
    "X_val = scaler.transform(X_val)\n",
    "X_test = scaler.transform(X_test)"
   ]
  },
  {
   "cell_type": "code",
   "execution_count": 30,
   "metadata": {
    "execution": {
     "iopub.execute_input": "2023-12-09T15:23:40.316639Z",
     "iopub.status.busy": "2023-12-09T15:23:40.316131Z",
     "iopub.status.idle": "2023-12-09T15:23:40.377075Z",
     "shell.execute_reply": "2023-12-09T15:23:40.375131Z",
     "shell.execute_reply.started": "2023-12-09T15:23:40.316588Z"
    }
   },
   "outputs": [],
   "source": [
    "# Creating a simple neural network model\n",
    "model = Sequential()\n",
    "model.add(Dense(10, input_shape=(256,), activation='sigmoid'))  # Input layer with 10 neurons\n",
    "model.add(Dense(4,activation='sigmoid'))\n",
    "model.add(Dense(1, activation='sigmoid'))  # Output layer with 1 neuron for binary classification\n",
    "\n",
    "# Compiling the model\n",
    "model.compile(optimizer='adam', loss='binary_crossentropy', metrics=['accuracy'])\n"
   ]
  },
  {
   "cell_type": "code",
   "execution_count": 31,
   "metadata": {
    "execution": {
     "iopub.execute_input": "2023-12-09T15:23:58.361521Z",
     "iopub.status.busy": "2023-12-09T15:23:58.361082Z",
     "iopub.status.idle": "2023-12-09T15:24:00.681024Z",
     "shell.execute_reply": "2023-12-09T15:24:00.679231Z",
     "shell.execute_reply.started": "2023-12-09T15:23:58.361491Z"
    }
   },
   "outputs": [
    {
     "name": "stdout",
     "output_type": "stream",
     "text": [
      "Epoch 1/25\n",
      "109/109 [==============================] - 2s 8ms/step - loss: 0.6380 - accuracy: 0.5064 - val_loss: 0.5485 - val_accuracy: 0.5109\n",
      "Epoch 2/25\n",
      "109/109 [==============================] - 1s 5ms/step - loss: 0.4962 - accuracy: 0.5064 - val_loss: 0.4772 - val_accuracy: 0.5109\n",
      "Epoch 3/25\n",
      "109/109 [==============================] - 1s 5ms/step - loss: 0.4346 - accuracy: 0.6752 - val_loss: 0.4271 - val_accuracy: 0.9051\n",
      "Epoch 4/25\n",
      "109/109 [==============================] - 1s 5ms/step - loss: 0.3883 - accuracy: 0.9468 - val_loss: 0.3884 - val_accuracy: 0.9343\n",
      "Epoch 5/25\n",
      "109/109 [==============================] - 1s 5ms/step - loss: 0.3507 - accuracy: 0.9743 - val_loss: 0.3573 - val_accuracy: 0.9416\n",
      "Epoch 6/25\n",
      "109/109 [==============================] - 1s 6ms/step - loss: 0.3193 - accuracy: 0.9872 - val_loss: 0.3311 - val_accuracy: 0.9562\n",
      "Epoch 7/25\n",
      "109/109 [==============================] - 1s 6ms/step - loss: 0.2930 - accuracy: 0.9908 - val_loss: 0.3073 - val_accuracy: 0.9562\n",
      "Epoch 8/25\n",
      "109/109 [==============================] - 1s 5ms/step - loss: 0.2700 - accuracy: 0.9963 - val_loss: 0.2875 - val_accuracy: 0.9562\n",
      "Epoch 9/25\n",
      "109/109 [==============================] - 1s 5ms/step - loss: 0.2500 - accuracy: 0.9982 - val_loss: 0.2713 - val_accuracy: 0.9562\n",
      "Epoch 10/25\n",
      "109/109 [==============================] - 1s 5ms/step - loss: 0.2325 - accuracy: 0.9982 - val_loss: 0.2558 - val_accuracy: 0.9562\n",
      "Epoch 11/25\n",
      "109/109 [==============================] - 1s 6ms/step - loss: 0.2168 - accuracy: 0.9982 - val_loss: 0.2417 - val_accuracy: 0.9562\n",
      "Epoch 12/25\n",
      "109/109 [==============================] - 1s 5ms/step - loss: 0.2027 - accuracy: 0.9982 - val_loss: 0.2290 - val_accuracy: 0.9635\n",
      "Epoch 13/25\n",
      "109/109 [==============================] - 1s 5ms/step - loss: 0.1899 - accuracy: 0.9982 - val_loss: 0.2178 - val_accuracy: 0.9635\n",
      "Epoch 14/25\n",
      "109/109 [==============================] - 1s 5ms/step - loss: 0.1782 - accuracy: 0.9982 - val_loss: 0.2075 - val_accuracy: 0.9635\n",
      "Epoch 15/25\n",
      "109/109 [==============================] - 1s 5ms/step - loss: 0.1675 - accuracy: 0.9982 - val_loss: 0.1978 - val_accuracy: 0.9635\n",
      "Epoch 16/25\n",
      "109/109 [==============================] - 1s 6ms/step - loss: 0.1578 - accuracy: 0.9982 - val_loss: 0.1890 - val_accuracy: 0.9635\n",
      "Epoch 17/25\n",
      "109/109 [==============================] - 1s 5ms/step - loss: 0.1488 - accuracy: 0.9982 - val_loss: 0.1808 - val_accuracy: 0.9708\n",
      "Epoch 18/25\n",
      "109/109 [==============================] - 1s 6ms/step - loss: 0.1404 - accuracy: 0.9982 - val_loss: 0.1728 - val_accuracy: 0.9708\n",
      "Epoch 19/25\n",
      "109/109 [==============================] - 1s 6ms/step - loss: 0.1328 - accuracy: 0.9982 - val_loss: 0.1663 - val_accuracy: 0.9708\n",
      "Epoch 20/25\n",
      "109/109 [==============================] - 1s 6ms/step - loss: 0.1256 - accuracy: 0.9982 - val_loss: 0.1593 - val_accuracy: 0.9708\n",
      "Epoch 21/25\n",
      "109/109 [==============================] - 1s 5ms/step - loss: 0.1191 - accuracy: 0.9982 - val_loss: 0.1528 - val_accuracy: 0.9708\n",
      "Epoch 22/25\n",
      "109/109 [==============================] - 1s 5ms/step - loss: 0.1129 - accuracy: 0.9982 - val_loss: 0.1476 - val_accuracy: 0.9708\n",
      "Epoch 23/25\n",
      "109/109 [==============================] - 1s 5ms/step - loss: 0.1072 - accuracy: 0.9982 - val_loss: 0.1425 - val_accuracy: 0.9708\n",
      "Epoch 24/25\n",
      "109/109 [==============================] - 1s 6ms/step - loss: 0.1019 - accuracy: 0.9982 - val_loss: 0.1371 - val_accuracy: 0.9708\n",
      "Epoch 25/25\n",
      "109/109 [==============================] - 1s 6ms/step - loss: 0.0970 - accuracy: 0.9982 - val_loss: 0.1323 - val_accuracy: 0.9781\n"
     ]
    },
    {
     "data": {
      "text/plain": [
       "<keras.src.callbacks.History at 0x2300e9d6690>"
      ]
     },
     "execution_count": 31,
     "metadata": {},
     "output_type": "execute_result"
    }
   ],
   "source": [
    "# Training the model\n",
    "model.fit(X_train,Y_train, epochs=25, batch_size=5,validation_split=0.2)"
   ]
  },
  {
   "cell_type": "code",
   "execution_count": 32,
   "metadata": {
    "execution": {
     "iopub.execute_input": "2023-12-09T15:26:43.749726Z",
     "iopub.status.busy": "2023-12-09T15:26:43.749217Z",
     "iopub.status.idle": "2023-12-09T15:26:43.843034Z",
     "shell.execute_reply": "2023-12-09T15:26:43.841144Z",
     "shell.execute_reply.started": "2023-12-09T15:26:43.749682Z"
    }
   },
   "outputs": [
    {
     "name": "stdout",
     "output_type": "stream",
     "text": [
      "4/4 [==============================] - 0s 6ms/step - loss: 0.1003 - accuracy: 0.9917\n",
      "Test Loss: 0.1003\n",
      "Test Accuracy: 0.9917\n"
     ]
    }
   ],
   "source": [
    "# Assuming you have X_test and y_test as your test dataset\n",
    "\n",
    "# Evaluate the model on the test dataset\n",
    "loss, accuracy = model.evaluate(X_val, Y_val)\n",
    "\n",
    "print(f\"Test Loss: {loss:.4f}\")\n",
    "print(f\"Test Accuracy: {accuracy:.4f}\")"
   ]
  },
  {
   "cell_type": "code",
   "execution_count": null,
   "metadata": {},
   "outputs": [],
   "source": []
  }
 ],
 "metadata": {
  "kaggle": {
   "accelerator": "none",
   "dataSources": [
    {
     "databundleVersionId": 887856,
     "sourceId": 15875,
     "sourceType": "competition"
    }
   ],
   "dockerImageVersionId": 30615,
   "isGpuEnabled": false,
   "isInternetEnabled": false,
   "language": "python",
   "sourceType": "notebook"
  },
  "kernelspec": {
   "display_name": "Python 3 (ipykernel)",
   "language": "python",
   "name": "python3"
  },
  "language_info": {
   "codemirror_mode": {
    "name": "ipython",
    "version": 3
   },
   "file_extension": ".py",
   "mimetype": "text/x-python",
   "name": "python",
   "nbconvert_exporter": "python",
   "pygments_lexer": "ipython3",
   "version": "3.11.5"
  }
 },
 "nbformat": 4,
 "nbformat_minor": 4
}
