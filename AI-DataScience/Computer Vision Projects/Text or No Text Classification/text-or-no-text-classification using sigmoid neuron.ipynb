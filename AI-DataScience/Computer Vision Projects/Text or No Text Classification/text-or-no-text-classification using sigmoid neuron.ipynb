{
 "cells": [
  {
   "cell_type": "code",
   "execution_count": 1,
   "metadata": {
    "_cell_guid": "b1076dfc-b9ad-4769-8c92-a6c4dae69d19",
    "_uuid": "8f2839f25d086af736a60e9eeb907d3b93b6e0e5",
    "execution": {
     "iopub.execute_input": "2023-12-09T14:06:21.876090Z",
     "iopub.status.busy": "2023-12-09T14:06:21.874692Z",
     "iopub.status.idle": "2023-12-09T14:06:24.150113Z",
     "shell.execute_reply": "2023-12-09T14:06:24.148764Z",
     "shell.execute_reply.started": "2023-12-09T14:06:21.876003Z"
    }
   },
   "outputs": [],
   "source": [
    "import os, shutil, sys, warnings, math\n",
    "import numpy as np\n",
    "import pandas as pd\n",
    "import matplotlib.pyplot as plt\n",
    "from PIL import Image\n",
    "from zipfile import ZipFile\n",
    "from tqdm import trange\n",
    "from tqdm.notebook import tqdm\n",
    "from sklearn.preprocessing import StandardScaler\n",
    "from sklearn.model_selection import train_test_split\n",
    "from sklearn.metrics import log_loss, accuracy_score"
   ]
  },
  {
   "cell_type": "code",
   "execution_count": 2,
   "metadata": {
    "execution": {
     "iopub.execute_input": "2023-12-09T14:06:44.131548Z",
     "iopub.status.busy": "2023-12-09T14:06:44.130755Z",
     "iopub.status.idle": "2023-12-09T14:06:44.137885Z",
     "shell.execute_reply": "2023-12-09T14:06:44.136348Z",
     "shell.execute_reply.started": "2023-12-09T14:06:44.131505Z"
    }
   },
   "outputs": [],
   "source": [
    "np.random.seed(0)\n",
    "warnings.filterwarnings(\"ignore\")"
   ]
  },
  {
   "cell_type": "code",
   "execution_count": 3,
   "metadata": {
    "execution": {
     "iopub.execute_input": "2023-12-09T14:07:17.200977Z",
     "iopub.status.busy": "2023-12-09T14:07:17.200587Z",
     "iopub.status.idle": "2023-12-09T14:07:17.207514Z",
     "shell.execute_reply": "2023-12-09T14:07:17.206167Z",
     "shell.execute_reply.started": "2023-12-09T14:07:17.200946Z"
    }
   },
   "outputs": [],
   "source": [
    "CONFIG = {\n",
    "    \"TEST_FOLDER\" : \"level_1_test/kaggle_level_1/\",\n",
    "    \"TRAIN_FOLDER\" : \"level_1_train/level_1/\",\n",
    "    \"IMAGE_SIZE\": (16, 16),\n",
    "    \"THRESHOLD\": 0.5\n",
    "}"
   ]
  },
  {
   "cell_type": "code",
   "execution_count": 4,
   "metadata": {
    "execution": {
     "iopub.execute_input": "2023-12-09T14:07:33.911001Z",
     "iopub.status.busy": "2023-12-09T14:07:33.910566Z",
     "iopub.status.idle": "2023-12-09T14:07:33.923228Z",
     "shell.execute_reply": "2023-12-09T14:07:33.922238Z",
     "shell.execute_reply.started": "2023-12-09T14:07:33.910969Z"
    }
   },
   "outputs": [],
   "source": [
    "def read_all(folder_path, key_prefix=\"\"):\n",
    "    print(\"Reading:\")\n",
    "    images={}\n",
    "    files = os.listdir(folder_path)\n",
    "    for i, filename in tqdm(enumerate(files), total=len(files)):\n",
    "        file_path = os.path.join(folder_path,filename)\n",
    "        image_index = key_prefix + filename[:-4]\n",
    "        image = Image.open(file_path)\n",
    "        image = image.convert(\"L\")\n",
    "        images[image_index] = np.array(image.copy()).flatten()\n",
    "        image.close()\n",
    "    return images"
   ]
  },
  {
   "cell_type": "code",
   "execution_count": 5,
   "metadata": {
    "execution": {
     "iopub.execute_input": "2023-12-09T14:21:14.313914Z",
     "iopub.status.busy": "2023-12-09T14:21:14.313476Z",
     "iopub.status.idle": "2023-12-09T14:21:14.323483Z",
     "shell.execute_reply": "2023-12-09T14:21:14.322023Z",
     "shell.execute_reply.started": "2023-12-09T14:21:14.313879Z"
    }
   },
   "outputs": [
    {
     "name": "stdout",
     "output_type": "stream",
     "text": [
      "<PIL.Image.Image image mode=L size=16x16 at 0x204EA32FA50>\n"
     ]
    }
   ],
   "source": [
    "image = Image.open(\"level_1_train/level_1/en/c0_13.jpg\")\n",
    "image = image.convert(\"L\")\n",
    "images = np.array(image.copy()).flatten()\n",
    "image.close()\n",
    "print(image)"
   ]
  },
  {
   "cell_type": "code",
   "execution_count": 6,
   "metadata": {
    "execution": {
     "iopub.execute_input": "2023-12-09T14:21:25.027767Z",
     "iopub.status.busy": "2023-12-09T14:21:25.027279Z",
     "iopub.status.idle": "2023-12-09T14:21:25.038098Z",
     "shell.execute_reply": "2023-12-09T14:21:25.036826Z",
     "shell.execute_reply.started": "2023-12-09T14:21:25.027730Z"
    }
   },
   "outputs": [
    {
     "data": {
      "text/plain": [
       "array([254, 249, 255, 243, 255, 251, 255, 253, 255, 254, 255, 255, 251,\n",
       "       250, 255, 246, 255, 245, 251, 255, 255, 248, 249, 251, 255, 226,\n",
       "       255, 255, 246, 255, 231, 255, 255, 255, 240, 247, 255, 255, 254,\n",
       "       255, 255, 255, 247, 255, 248, 255, 255, 254, 250, 239, 255, 252,\n",
       "       242, 252, 253, 246, 251, 247, 255, 248, 251, 250, 255, 245, 255,\n",
       "       241, 236, 255, 255, 255,   6,  20,  27,  14, 243,   0,  38, 243,\n",
       "       255, 252, 246, 255, 255, 229, 255,   0,   0,   0,   0,   1,   0,\n",
       "        16,   0, 255, 255, 253, 254, 254, 245, 255,   0,   8,   0,  12,\n",
       "         0,  13,  16,   0,   8, 242, 249, 255, 252, 252, 255,   0,   3,\n",
       "         0, 255, 241, 252, 255,   0,   9,   0, 255, 255, 249, 255, 249,\n",
       "       255,   9,   0,  27, 255, 251, 255, 255,   5,   4,   0, 255, 255,\n",
       "       250, 255, 244, 234,   2,  11,  11, 236, 255, 255, 254,   0,   3,\n",
       "        14, 249, 255, 255, 250, 255, 255,   0,   1,   0, 255, 245, 240,\n",
       "       255,   0,   6,   1, 255, 251, 245, 250, 241, 240,   4,   0,  20,\n",
       "       252, 255, 244, 246,   0,  17,   0, 255, 255, 255, 255, 251, 243,\n",
       "         5,   0,  13,   0,   5,   0,   6,   8,   0,   7, 245, 250, 247,\n",
       "       248, 255, 255, 236,   1,   0,   0,  26,   4,   5,   0,  15,   0,\n",
       "       255, 253, 255, 248, 255, 244, 254, 255,   0,   5,  14,   0,  27,\n",
       "       255,   0,   1, 255, 244, 251, 255, 254, 255, 255, 247, 247, 255,\n",
       "       246, 255, 255, 255, 253, 255, 245, 255, 250], dtype=uint8)"
      ]
     },
     "execution_count": 6,
     "metadata": {},
     "output_type": "execute_result"
    }
   ],
   "source": [
    "images"
   ]
  },
  {
   "cell_type": "code",
   "execution_count": 7,
   "metadata": {
    "execution": {
     "iopub.execute_input": "2023-12-09T14:08:04.881894Z",
     "iopub.status.busy": "2023-12-09T14:08:04.881491Z",
     "iopub.status.idle": "2023-12-09T14:08:09.252522Z",
     "shell.execute_reply": "2023-12-09T14:08:09.251517Z",
     "shell.execute_reply.started": "2023-12-09T14:08:04.881855Z"
    }
   },
   "outputs": [
    {
     "name": "stdout",
     "output_type": "stream",
     "text": [
      "Reading:\n"
     ]
    },
    {
     "data": {
      "application/vnd.jupyter.widget-view+json": {
       "model_id": "290dfbc98c144ed7b49321de3eaefc23",
       "version_major": 2,
       "version_minor": 0
      },
      "text/plain": [
       "  0%|          | 0/447 [00:00<?, ?it/s]"
      ]
     },
     "metadata": {},
     "output_type": "display_data"
    },
    {
     "name": "stdout",
     "output_type": "stream",
     "text": [
      "Reading:\n"
     ]
    },
    {
     "data": {
      "application/vnd.jupyter.widget-view+json": {
       "model_id": "e7e979553209431a849b7b12d453dbf1",
       "version_major": 2,
       "version_minor": 0
      },
      "text/plain": [
       "  0%|          | 0/146 [00:00<?, ?it/s]"
      ]
     },
     "metadata": {},
     "output_type": "display_data"
    },
    {
     "name": "stdout",
     "output_type": "stream",
     "text": [
      "Reading:\n"
     ]
    },
    {
     "data": {
      "application/vnd.jupyter.widget-view+json": {
       "model_id": "5149ecb70f5948cb94d93e13acb20685",
       "version_major": 2,
       "version_minor": 0
      },
      "text/plain": [
       "  0%|          | 0/149 [00:00<?, ?it/s]"
      ]
     },
     "metadata": {},
     "output_type": "display_data"
    },
    {
     "name": "stdout",
     "output_type": "stream",
     "text": [
      "Reading:\n"
     ]
    },
    {
     "data": {
      "application/vnd.jupyter.widget-view+json": {
       "model_id": "4ec019a742fa4e379097afac2bfb20c7",
       "version_major": 2,
       "version_minor": 0
      },
      "text/plain": [
       "  0%|          | 0/150 [00:00<?, ?it/s]"
      ]
     },
     "metadata": {},
     "output_type": "display_data"
    },
    {
     "name": "stdout",
     "output_type": "stream",
     "text": [
      "892\n",
      "Reading:\n"
     ]
    },
    {
     "data": {
      "application/vnd.jupyter.widget-view+json": {
       "model_id": "fc5a8dd891b54986b80da7c0238fff5e",
       "version_major": 2,
       "version_minor": 0
      },
      "text/plain": [
       "  0%|          | 0/297 [00:00<?, ?it/s]"
      ]
     },
     "metadata": {},
     "output_type": "display_data"
    },
    {
     "name": "stdout",
     "output_type": "stream",
     "text": [
      "297\n"
     ]
    }
   ],
   "source": [
    "languages = ['ta', 'hi', 'en'] # tamil, hindi, english\n",
    "# read in backgrounds with extra 'bgr_' for identification\n",
    "images_train = read_all(f'{CONFIG[\"TRAIN_FOLDER\"]}background/', key_prefix='bgr_') # change the path\n",
    "# read in the images from all three languages with extra prefix for identification\n",
    "for language in languages:\n",
    "  images_train.update(read_all(CONFIG[\"TRAIN_FOLDER\"] + language, key_prefix=language+\"_\" ))\n",
    "print(len(images_train))\n",
    "\n",
    "# read in test images\n",
    "images_test = read_all(CONFIG[\"TEST_FOLDER\"], key_prefix='') # change the path\n",
    "print(len(images_test))\n",
    "\n",
    "list(images_test.keys())[:5]\n",
    "\n",
    "X = []\n",
    "Y = []"
   ]
  },
  {
   "cell_type": "code",
   "execution_count": 8,
   "metadata": {
    "execution": {
     "iopub.execute_input": "2023-12-09T14:08:24.841079Z",
     "iopub.status.busy": "2023-12-09T14:08:24.840665Z",
     "iopub.status.idle": "2023-12-09T14:08:24.854146Z",
     "shell.execute_reply": "2023-12-09T14:08:24.852915Z",
     "shell.execute_reply.started": "2023-12-09T14:08:24.841017Z"
    }
   },
   "outputs": [
    {
     "name": "stdout",
     "output_type": "stream",
     "text": [
      "(892, 256) (892,)\n",
      "(297, 256)\n"
     ]
    }
   ],
   "source": [
    "# add the image to columns then check if it is background image or not, depending on that put 0 or 1 in target\n",
    "for key, value in images_train.items():\n",
    "    X.append(value)\n",
    "    if key[:4] == \"bgr_\":\n",
    "        Y.append(0)\n",
    "    else:\n",
    "        Y.append(1)\n",
    "\n",
    "ID_test = []\n",
    "X_test = []\n",
    "for key, value in images_test.items():\n",
    "  ID_test.append(int(key))\n",
    "  X_test.append(value)\n",
    "  \n",
    "        \n",
    "X = np.array(X)\n",
    "Y = np.array(Y)\n",
    "X_test = np.array(X_test)\n",
    "\n",
    "print(X.shape, Y.shape)\n",
    "print(X_test.shape)"
   ]
  },
  {
   "cell_type": "code",
   "execution_count": 9,
   "metadata": {
    "execution": {
     "iopub.execute_input": "2023-12-09T14:08:34.920355Z",
     "iopub.status.busy": "2023-12-09T14:08:34.919928Z",
     "iopub.status.idle": "2023-12-09T14:08:34.927245Z",
     "shell.execute_reply": "2023-12-09T14:08:34.925819Z",
     "shell.execute_reply.started": "2023-12-09T14:08:34.920323Z"
    }
   },
   "outputs": [
    {
     "name": "stdout",
     "output_type": "stream",
     "text": [
      "(892, 256) (892,) (297, 256)\n"
     ]
    }
   ],
   "source": [
    "print(X.shape, Y.shape, X_test.shape)"
   ]
  },
  {
   "cell_type": "code",
   "execution_count": 10,
   "metadata": {
    "execution": {
     "iopub.execute_input": "2023-12-09T14:08:48.900129Z",
     "iopub.status.busy": "2023-12-09T14:08:48.899706Z",
     "iopub.status.idle": "2023-12-09T14:08:48.910393Z",
     "shell.execute_reply": "2023-12-09T14:08:48.909144Z",
     "shell.execute_reply.started": "2023-12-09T14:08:48.900090Z"
    }
   },
   "outputs": [],
   "source": [
    "def plot_images(images,labels,columns=5,image_size=None,figsize=(8,8),cmap='gray'):\n",
    "    fig = plt.figure(figsize=figsize)\n",
    "    fig.tight_layout(h_pad=3)\n",
    "    rows=math.ceil(len(images)/columns) # size of image array = numrows * numcolumns\n",
    "    for image,label,position in zip(images,labels,range(1,len(labels)+1)):\n",
    "        fig.add_subplot(rows,columns,position)\n",
    "        if image_size is not None:\n",
    "            image = image.reshape(image_size)\n",
    "        plt.imshow(image,cmap=cmap,interpolation='nearest')\n",
    "        plt.axis('off')\n",
    "        plt.title(label)\n",
    "    plt.show()"
   ]
  },
  {
   "cell_type": "code",
   "execution_count": 11,
   "metadata": {
    "execution": {
     "iopub.execute_input": "2023-12-09T14:09:04.761336Z",
     "iopub.status.busy": "2023-12-09T14:09:04.760929Z",
     "iopub.status.idle": "2023-12-09T14:09:07.324219Z",
     "shell.execute_reply": "2023-12-09T14:09:07.322949Z",
     "shell.execute_reply.started": "2023-12-09T14:09:04.761306Z"
    }
   },
   "outputs": [
    {
     "data": {
      "image/png": "[encoded data removed]",
      "text/plain": [
       "<Figure size 2000x300 with 40 Axes>"
      ]
     },
     "metadata": {},
     "output_type": "display_data"
    }
   ],
   "source": [
    "indexs = np.random.randint(1, X.shape[0], size=40) # get few random indexes\n",
    "plot_images(X[indexs], Y[indexs], image_size=CONFIG[\"IMAGE_SIZE\"], columns=20, figsize=(20, 3))"
   ]
  },
  {
   "cell_type": "code",
   "execution_count": 12,
   "metadata": {
    "execution": {
     "iopub.execute_input": "2023-12-09T14:09:42.901234Z",
     "iopub.status.busy": "2023-12-09T14:09:42.900743Z",
     "iopub.status.idle": "2023-12-09T14:09:42.912260Z",
     "shell.execute_reply": "2023-12-09T14:09:42.911068Z",
     "shell.execute_reply.started": "2023-12-09T14:09:42.901196Z"
    }
   },
   "outputs": [],
   "source": [
    "# splitting for train and validation sets to check bias chances on test data. we already have the test data\n",
    "X_train, X_val, Y_train, Y_val = train_test_split(X, Y, test_size=0.15, random_state=10, stratify=Y, shuffle=True)"
   ]
  },
  {
   "cell_type": "code",
   "execution_count": 13,
   "metadata": {
    "execution": {
     "iopub.execute_input": "2023-12-09T14:09:50.810810Z",
     "iopub.status.busy": "2023-12-09T14:09:50.810378Z",
     "iopub.status.idle": "2023-12-09T14:09:50.818414Z",
     "shell.execute_reply": "2023-12-09T14:09:50.817112Z",
     "shell.execute_reply.started": "2023-12-09T14:09:50.810773Z"
    }
   },
   "outputs": [
    {
     "name": "stdout",
     "output_type": "stream",
     "text": [
      "(758, 256) (758,) (134, 256) (134,)\n",
      "0.49887892376681614 0.49868073878627966 0.5\n"
     ]
    }
   ],
   "source": [
    "print(X_train.shape, Y_train.shape, X_val.shape, Y_val.shape)\n",
    "print(Y.mean(), Y_train.mean(), Y_val.mean())"
   ]
  },
  {
   "cell_type": "code",
   "execution_count": 14,
   "metadata": {
    "execution": {
     "iopub.execute_input": "2023-12-09T14:10:28.657168Z",
     "iopub.status.busy": "2023-12-09T14:10:28.656729Z",
     "iopub.status.idle": "2023-12-09T14:10:28.669210Z",
     "shell.execute_reply": "2023-12-09T14:10:28.668029Z",
     "shell.execute_reply.started": "2023-12-09T14:10:28.657131Z"
    }
   },
   "outputs": [],
   "source": [
    "scaler = StandardScaler()\n",
    "X_train = scaler.fit_transform(X_train)\n",
    "X_val = scaler.transform(X_val)\n",
    "X_test = scaler.transform(X_test)"
   ]
  },
  {
   "cell_type": "code",
   "execution_count": 15,
   "metadata": {
    "execution": {
     "iopub.execute_input": "2023-12-09T14:10:45.860633Z",
     "iopub.status.busy": "2023-12-09T14:10:45.860196Z",
     "iopub.status.idle": "2023-12-09T14:10:48.553723Z",
     "shell.execute_reply": "2023-12-09T14:10:48.552872Z",
     "shell.execute_reply.started": "2023-12-09T14:10:45.860596Z"
    }
   },
   "outputs": [
    {
     "data": {
      "image/png": "[encoded data removed]",
      "text/plain": [
       "<Figure size 2000x300 with 40 Axes>"
      ]
     },
     "metadata": {},
     "output_type": "display_data"
    }
   ],
   "source": [
    "indexs = np.random.randint(1, X_train.shape[0], size=40)\n",
    "plot_images(X_train[indexs], Y_train[indexs], image_size=CONFIG[\"IMAGE_SIZE\"], columns=20, figsize=(20, 3))"
   ]
  },
  {
   "cell_type": "code",
   "execution_count": 17,
   "metadata": {
    "execution": {
     "iopub.execute_input": "2023-12-09T14:14:38.778179Z",
     "iopub.status.busy": "2023-12-09T14:14:38.777676Z",
     "iopub.status.idle": "2023-12-09T14:14:38.802558Z",
     "shell.execute_reply": "2023-12-09T14:14:38.800757Z",
     "shell.execute_reply.started": "2023-12-09T14:14:38.778140Z"
    }
   },
   "outputs": [],
   "source": [
    "class SigmoidNeuron:\n",
    "    def __init__(self):\n",
    "        self.w = None\n",
    "        self.b = None\n",
    "        self.train_loss = []\n",
    "        self.train_accuracy = []\n",
    "        self.val_loss = []\n",
    "        self.val_accuracy = []\n",
    "\n",
    "    def model(self, x):\n",
    "        return 1. / (1. + np.exp(- (np.dot(self.w, x) + self.b)))\n",
    "\n",
    "    def predict(self, X):\n",
    "        return np.asarray([self.model(x) for x in X])\n",
    "\n",
    "    def loss(self, Y, Y_pred):\n",
    "        return log_loss(Y, Y_pred)\n",
    "\n",
    "    def accuracy(self, Y, Y_pred):\n",
    "        return accuracy_score(Y, (Y_pred >= CONFIG[\"THRESHOLD\"]).astype(int))\n",
    "\n",
    "    def grad_w(self, x, y, y_pred):\n",
    "        return (y_pred - y) * x\n",
    "\n",
    "    def grad_b(self, y, y_pred):\n",
    "        return y_pred - y\n",
    "\n",
    "    def fit(self, X_train, Y_train, X_val, Y_val, epochs=1, learning_rate=1, initialise=True):\n",
    "        if initialise:\n",
    "            self.w = np.random.randn(1, X_train.shape[1])\n",
    "            self.b = 0\n",
    "\n",
    "        for _ in tqdm(range(epochs), total=epochs, unit='epoch', desc='Epoch'):\n",
    "            Y_pred = self.predict(X_train)\n",
    "\n",
    "            dw = 0\n",
    "            db = 0\n",
    "            for x, y, y_pred in zip(X_train, Y_train, Y_pred):\n",
    "                dw += self.grad_w(x, y, y_pred)\n",
    "                db += self.grad_b(y, y_pred)\n",
    "\n",
    "            self.w -= (learning_rate * dw)\n",
    "            self.b -= (learning_rate * db)\n",
    "\n",
    "            Y_pred = self.predict(X_train)\n",
    "            self.train_loss.append(self.loss(Y_train, Y_pred))\n",
    "            self.train_accuracy.append(self.accuracy(Y_train, Y_pred))\n",
    "\n",
    "            Y_val_pred = self.predict(X_val)\n",
    "            self.val_loss.append(self.loss(Y_val, Y_val_pred))\n",
    "            self.val_accuracy.append(self.accuracy(Y_val, Y_val_pred))\n",
    "\n",
    "        print('Final Train Loss:', self.train_loss[-1])\n",
    "        print('Final Validation Loss:', self.val_loss[-1])\n",
    "        print('Final Train Accuracy:', self.train_accuracy[-1])\n",
    "        print('Final Validation Accuracy:', self.val_accuracy[-1])\n",
    "\n",
    "    def plot_graphs(self):\n",
    "        plt.plot(self.train_loss, label='Train Loss')\n",
    "        plt.plot(self.val_loss, label='Test Loss')\n",
    "        plt.xlabel('Epochs')\n",
    "        plt.ylabel('Log Loss Error')\n",
    "        plt.legend()\n",
    "        plt.show()\n",
    "\n",
    "        plt.plot(self.train_accuracy, label='Train Accuracy')\n",
    "        plt.plot(self.val_accuracy, label='Test Accuracy')\n",
    "        plt.xlabel('Epochs')\n",
    "        plt.ylabel('Accuracy')\n",
    "        plt.legend()\n",
    "        plt.show()\n",
    "\n",
    "    def evalute(self, X_test, Y_test):\n",
    "        Y_test_pred = self.predict(X_test)\n",
    "        print('Test Accuracy:', self.accuracy(Y_test, Y_test_pred))"
   ]
  },
  {
   "cell_type": "code",
   "execution_count": 18,
   "metadata": {
    "execution": {
     "iopub.execute_input": "2023-12-09T14:24:00.007772Z",
     "iopub.status.busy": "2023-12-09T14:24:00.007310Z",
     "iopub.status.idle": "2023-12-09T14:24:00.015449Z",
     "shell.execute_reply": "2023-12-09T14:24:00.014272Z",
     "shell.execute_reply.started": "2023-12-09T14:24:00.007733Z"
    }
   },
   "outputs": [
    {
     "data": {
      "text/plain": [
       "(758, 256)"
      ]
     },
     "execution_count": 18,
     "metadata": {},
     "output_type": "execute_result"
    }
   ],
   "source": [
    "X_train.shape"
   ]
  },
  {
   "cell_type": "code",
   "execution_count": 19,
   "metadata": {
    "execution": {
     "iopub.execute_input": "2023-12-09T14:15:01.120840Z",
     "iopub.status.busy": "2023-12-09T14:15:01.120411Z",
     "iopub.status.idle": "2023-12-09T14:15:07.658280Z",
     "shell.execute_reply": "2023-12-09T14:15:07.656855Z",
     "shell.execute_reply.started": "2023-12-09T14:15:01.120809Z"
    }
   },
   "outputs": [
    {
     "data": {
      "application/vnd.jupyter.widget-view+json": {
       "model_id": "9bcc73bd966445379ae28e5a41e69b83",
       "version_major": 2,
       "version_minor": 0
      },
      "text/plain": [
       "Epoch:   0%|          | 0/150 [00:00<?, ?epoch/s]"
      ]
     },
     "metadata": {},
     "output_type": "display_data"
    },
    {
     "name": "stdout",
     "output_type": "stream",
     "text": [
      "Final Train Loss: 4.942875025297785e-05\n",
      "Final Validation Loss: 0.01813717146383903\n",
      "Final Train Accuracy: 1.0\n",
      "Final Validation Accuracy: 0.9925373134328358\n"
     ]
    },
    {
     "data": {
      "image/png": "[encoded data removed]",
      "text/plain": [
       "<Figure size 640x480 with 1 Axes>"
      ]
     },
     "metadata": {},
     "output_type": "display_data"
    },
    {
     "data": {
      "image/png": "[encoded data removed]",
      "text/plain": [
       "<Figure size 640x480 with 1 Axes>"
      ]
     },
     "metadata": {},
     "output_type": "display_data"
    }
   ],
   "source": [
    "model = SigmoidNeuron()\n",
    "model.it(X_train, Y_train, X_val, Y_val, epochs=150, learning_rate=0.02)\n",
    "model.plot_graphs()"
   ]
  },
  {
   "cell_type": "code",
   "execution_count": 141,
   "metadata": {},
   "outputs": [],
   "source": [
    "my_array = model.predict(X_val)\n",
    "Y_pred = np.where(my_array >= 0.5, 1, 0)"
   ]
  },
  {
   "cell_type": "code",
   "execution_count": 142,
   "metadata": {},
   "outputs": [],
   "source": [
    "from sklearn.metrics import confusion_matrix"
   ]
  },
  {
   "cell_type": "code",
   "execution_count": 143,
   "metadata": {},
   "outputs": [
    {
     "data": {
      "text/plain": [
       "array([[1.00000000e+00],\n",
       "       [1.00000000e+00],\n",
       "       [1.00000000e+00],\n",
       "       [6.22283823e-32],\n",
       "       [1.00000000e+00],\n",
       "       [9.99999999e-01],\n",
       "       [1.00000000e+00],\n",
       "       [1.00000000e+00],\n",
       "       [6.22283823e-32],\n",
       "       [9.99999845e-01],\n",
       "       [6.22283823e-32],\n",
       "       [6.22283823e-32],\n",
       "       [6.22283823e-32],\n",
       "       [6.22283823e-32],\n",
       "       [1.00000000e+00],\n",
       "       [1.00000000e+00],\n",
       "       [1.00000000e+00],\n",
       "       [1.00000000e+00],\n",
       "       [6.22283823e-32],\n",
       "       [6.22283823e-32],\n",
       "       [6.22283823e-32],\n",
       "       [1.00000000e+00],\n",
       "       [1.00000000e+00],\n",
       "       [6.22283823e-32],\n",
       "       [1.00000000e+00],\n",
       "       [6.22283823e-32],\n",
       "       [6.22283823e-32],\n",
       "       [6.22283823e-32],\n",
       "       [6.22283823e-32],\n",
       "       [6.22283823e-32],\n",
       "       [1.00000000e+00],\n",
       "       [1.00000000e+00],\n",
       "       [1.00000000e+00],\n",
       "       [1.00000000e+00],\n",
       "       [1.00000000e+00],\n",
       "       [1.00000000e+00],\n",
       "       [6.22283823e-32],\n",
       "       [1.00000000e+00],\n",
       "       [1.00000000e+00],\n",
       "       [6.22283823e-32],\n",
       "       [6.22283823e-32],\n",
       "       [6.22283823e-32],\n",
       "       [9.99995916e-01],\n",
       "       [6.22283823e-32],\n",
       "       [6.22283823e-32],\n",
       "       [6.22283823e-32],\n",
       "       [6.22283823e-32],\n",
       "       [1.00000000e+00],\n",
       "       [6.22283823e-32],\n",
       "       [6.22283823e-32],\n",
       "       [6.22283823e-32],\n",
       "       [6.22283823e-32],\n",
       "       [1.00000000e+00],\n",
       "       [1.00000000e+00],\n",
       "       [6.22283823e-32],\n",
       "       [6.22283823e-32],\n",
       "       [6.22283823e-32],\n",
       "       [9.99999967e-01],\n",
       "       [1.00000000e+00],\n",
       "       [1.00000000e+00],\n",
       "       [1.00000000e+00],\n",
       "       [6.22283823e-32],\n",
       "       [1.00000000e+00],\n",
       "       [6.22283823e-32],\n",
       "       [1.00000000e+00],\n",
       "       [6.22283823e-32],\n",
       "       [1.37495401e-01],\n",
       "       [1.00000000e+00],\n",
       "       [1.00000000e+00],\n",
       "       [6.22283823e-32],\n",
       "       [6.22283823e-32],\n",
       "       [6.22283823e-32],\n",
       "       [6.22283823e-32],\n",
       "       [1.00000000e+00],\n",
       "       [1.00000000e+00],\n",
       "       [6.22283823e-32],\n",
       "       [1.00000000e+00],\n",
       "       [6.40048137e-01],\n",
       "       [1.00000000e+00],\n",
       "       [6.22283823e-32],\n",
       "       [6.22283823e-32],\n",
       "       [1.00000000e+00],\n",
       "       [6.22283823e-32],\n",
       "       [6.22283823e-32],\n",
       "       [6.22283823e-32],\n",
       "       [1.00000000e+00],\n",
       "       [1.00000000e+00],\n",
       "       [6.22283823e-32],\n",
       "       [6.22283823e-32],\n",
       "       [6.22283823e-32],\n",
       "       [1.00000000e+00],\n",
       "       [1.00000000e+00],\n",
       "       [1.00000000e+00],\n",
       "       [6.22283823e-32],\n",
       "       [6.22283823e-32],\n",
       "       [1.00000000e+00],\n",
       "       [1.00000000e+00],\n",
       "       [6.22283823e-32],\n",
       "       [1.00000000e+00],\n",
       "       [1.00000000e+00],\n",
       "       [6.22283823e-32],\n",
       "       [1.00000000e+00],\n",
       "       [6.22283823e-32],\n",
       "       [6.22283823e-32],\n",
       "       [6.22283823e-32],\n",
       "       [1.00000000e+00],\n",
       "       [6.22283823e-32],\n",
       "       [6.22283823e-32],\n",
       "       [6.22283823e-32],\n",
       "       [6.22283823e-32],\n",
       "       [1.00000000e+00],\n",
       "       [1.00000000e+00],\n",
       "       [1.00000000e+00],\n",
       "       [1.00000000e+00],\n",
       "       [6.22283823e-32],\n",
       "       [1.00000000e+00],\n",
       "       [1.00000000e+00],\n",
       "       [6.22283823e-32],\n",
       "       [6.22283823e-32],\n",
       "       [6.22283823e-32],\n",
       "       [6.22283823e-32],\n",
       "       [1.00000000e+00],\n",
       "       [6.22283823e-32],\n",
       "       [1.00000000e+00],\n",
       "       [1.00000000e+00],\n",
       "       [1.00000000e+00],\n",
       "       [6.22283823e-32],\n",
       "       [6.22283823e-32],\n",
       "       [1.00000000e+00],\n",
       "       [1.00000000e+00],\n",
       "       [1.00000000e+00],\n",
       "       [1.00000000e+00],\n",
       "       [6.22283823e-32],\n",
       "       [6.22283823e-32]])"
      ]
     },
     "execution_count": 143,
     "metadata": {},
     "output_type": "execute_result"
    }
   ],
   "source": [
    "my_array"
   ]
  },
  {
   "cell_type": "code",
   "execution_count": 144,
   "metadata": {},
   "outputs": [
    {
     "name": "stdout",
     "output_type": "stream",
     "text": [
      "[[67  1]\n",
      " [ 0 66]]\n"
     ]
    }
   ],
   "source": [
    "print(confusion_matrix(Y_pred,Y_val))"
   ]
  },
  {
   "cell_type": "code",
   "execution_count": null,
   "metadata": {},
   "outputs": [],
   "source": []
  },
  {
   "cell_type": "code",
   "execution_count": null,
   "metadata": {},
   "outputs": [],
   "source": []
  }
 ],
 "metadata": {
  "kaggle": {
   "accelerator": "none",
   "dataSources": [
    {
     "databundleVersionId": 1002819,
     "sourceId": 15874,
     "sourceType": "competition"
    }
   ],
   "dockerImageVersionId": 30615,
   "isGpuEnabled": false,
   "isInternetEnabled": false,
   "language": "python",
   "sourceType": "notebook"
  },
  "kernelspec": {
   "display_name": "Python 3 (ipykernel)",
   "language": "python",
   "name": "python3"
  },
  "language_info": {
   "codemirror_mode": {
    "name": "ipython",
    "version": 3
   },
   "file_extension": ".py",
   "mimetype": "text/x-python",
   "name": "python",
   "nbconvert_exporter": "python",
   "pygments_lexer": "ipython3",
   "version": "3.11.5"
  }
 },
 "nbformat": 4,
 "nbformat_minor": 4
}
